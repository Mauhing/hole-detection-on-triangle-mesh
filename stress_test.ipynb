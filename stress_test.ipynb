{
 "cells": [
  {
   "cell_type": "code",
   "execution_count": null,
   "id": "258192ac",
   "metadata": {},
   "outputs": [],
   "source": [
    "import open3d as o3d\n",
    "import numpy as np\n",
    "import copy"
   ]
  },
  {
   "cell_type": "code",
   "execution_count": null,
   "id": "10fb351a",
   "metadata": {},
   "outputs": [],
   "source": [
    "from main_hole_detection import construct_boundaries_from_mesh as hole_detection\n",
    "\n",
    "bunny_mesh = o3d.data.BunnyMesh()\n",
    "mesh = o3d.io.read_triangle_mesh(bunny_mesh.path)\n",
    "mesh.compute_vertex_normals()\n",
    "\n",
    "print(mesh.triangles)\n",
    "mesh_simp = mesh.simplify_quadric_decimation(2000) \n",
    "\n",
    "extract_present = 0.5\n",
    "\n",
    "def random_subset_of_mesh(mesh_simp, extract_present):\n",
    "    mesh_sub = copy.deepcopy(mesh_simp)\n",
    "    size = len(np.asarray(mesh_sub.triangles))\n",
    "    index = np.random.choice(a=size, size=int(size*extract_present), replace=False)\n",
    "    mesh_sub.triangles = o3d.utility.Vector3iVector(\n",
    "        np.asarray(mesh_simp.triangles)[index])\n",
    "    mesh_sub.triangle_normals = o3d.utility.Vector3dVector(\n",
    "        np.asarray(mesh_simp.triangle_normals)[index])\n",
    "    return mesh_sub\n",
    "\n",
    "\n",
    "for i in range(1000):\n",
    "    print(i+1,  end='\\r')\n",
    "    mesh_sub = random_subset_of_mesh(mesh_simp, extract_present)\n",
    "    boundaries, relations, _ = hole_detection(mesh_sub, relation=False)\n",
    "    # Do whatever you like with boundaries and relations"
   ]
  }
 ],
 "metadata": {
  "kernelspec": {
   "display_name": "Python 3 (ipykernel)",
   "language": "python",
   "name": "python3"
  },
  "language_info": {
   "codemirror_mode": {
    "name": "ipython",
    "version": 3
   },
   "file_extension": ".py",
   "mimetype": "text/x-python",
   "name": "python",
   "nbconvert_exporter": "python",
   "pygments_lexer": "ipython3",
   "version": "3.10.11"
  }
 },
 "nbformat": 4,
 "nbformat_minor": 5
}
